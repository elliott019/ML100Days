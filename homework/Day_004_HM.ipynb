{
 "cells": [
  {
   "cell_type": "code",
   "execution_count": 1,
   "metadata": {},
   "outputs": [],
   "source": [
    "import numpy as np"
   ]
  },
  {
   "cell_type": "code",
   "execution_count": 2,
   "metadata": {},
   "outputs": [],
   "source": [
    "#1.有多少學生英文成績比數學成績高？\n",
    "\n",
    "english_score = np.array([55,89,76,65,48,70])\n",
    "math_score = np.array([60,85,60,68,55,60])\n",
    "chinese_score = np.array([65,90,82,72,66,77])"
   ]
  },
  {
   "cell_type": "code",
   "execution_count": 4,
   "metadata": {},
   "outputs": [
    {
     "name": "stdout",
     "output_type": "stream",
     "text": [
      "[False  True  True False False  True]\n",
      "3\n"
     ]
    }
   ],
   "source": [
    "es_greater_ms = np.greater(english_score,math_score)\n",
    "print(es_greater_ms)\n",
    "print(np.sum(es_greater_ms)) #np.sum = np.count_nonzero 。 因為數值 > 0，True 則回傳 1，False 則回傳 0"
   ]
  },
  {
   "cell_type": "code",
   "execution_count": 9,
   "metadata": {},
   "outputs": [
    {
     "name": "stdout",
     "output_type": "stream",
     "text": [
      "[ True  True  True  True  True  True]\n",
      "[ True  True  True  True  True  True]\n",
      "[ True  True  True  True  True  True]\n",
      "True\n"
     ]
    }
   ],
   "source": [
    "#2.是否全班同學最高分都是國文？\n",
    "\n",
    "cs_greater_ms = np.greater(chinese_score,math_score)\n",
    "cs_greater_es = np.greater(chinese_score,english_score)\n",
    "print(cs_greater_ms)\n",
    "print(cs_greater_es)\n",
    "print(np.logical_and(cs_greater_ms,cs_greater_es))\n",
    "print(np.logical_and(cs_greater_ms,cs_greater_es).all())#因為是”全部“的學生，所以用all"
   ]
  }
 ],
 "metadata": {
  "kernelspec": {
   "display_name": "Python 3",
   "language": "python",
   "name": "python3"
  },
  "language_info": {
   "codemirror_mode": {
    "name": "ipython",
    "version": 3
   },
   "file_extension": ".py",
   "mimetype": "text/x-python",
   "name": "python",
   "nbconvert_exporter": "python",
   "pygments_lexer": "ipython3",
   "version": "3.8.5"
  }
 },
 "nbformat": 4,
 "nbformat_minor": 4
}
