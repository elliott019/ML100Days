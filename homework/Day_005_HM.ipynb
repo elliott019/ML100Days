{
 "cells": [
  {
   "cell_type": "markdown",
   "metadata": {},
   "source": [
    "作業目標\n",
    "計算有缺失值的資料，統計量實作\n",
    "作業重點\n",
    "當遇到缺失值有函式可以處理，不須額外寫程式刪除\n",
    "計算統計量時不能出現缺失值"
   ]
  },
  {
   "cell_type": "markdown",
   "metadata": {},
   "source": [
    "題目:\n",
    "english_score = np.array([55,89,76,65,48,70])\n",
    "math_score = np.array([60,85,60,68,np.nan,60])\n",
    "chinese_score = np.array([65,90,82,72,66,77])\n",
    "上3列共六位同學的英文、數學、國文成績，第一個元素代表第一位同學，舉例第一位同學英文55分、數學60分、國文65分，今天第五位同學因某原因沒來考試，導致數學成績缺值，運用上列數據回答下列問題。\n",
    "1. 請計算各科成績平均、最大值、最小值、標準差，其中數學缺一筆資料可忽略?\n",
    "2. 第五位同學補考數學後成績為55，請計算補考後數學成績平均、最大值、最小值、標準差?\n",
    "3. 用補考後資料找出與國文成績相關係數最高的學科?"
   ]
  },
  {
   "cell_type": "code",
   "execution_count": 1,
   "metadata": {},
   "outputs": [],
   "source": [
    "import numpy as np"
   ]
  },
  {
   "cell_type": "code",
   "execution_count": 2,
   "metadata": {},
   "outputs": [],
   "source": [
    "english_score = np.array([55,89,76,65,48,70])\n",
    "math_score = np.array([60,85,60,68,np.nan,60])\n",
    "chinese_score = np.array([65,90,82,72,66,77])"
   ]
  },
  {
   "cell_type": "code",
   "execution_count": 5,
   "metadata": {},
   "outputs": [
    {
     "data": {
      "text/plain": [
       "(67.16666666666667, 66.6, 75.33333333333333)"
      ]
     },
     "execution_count": 5,
     "metadata": {},
     "output_type": "execute_result"
    }
   ],
   "source": [
    "#1. 請計算各科成績平均、最大值、最小值、標準差，其中數學缺哪一筆資料可忽略\n",
    "\n",
    "#各科平均\n",
    "es_mean=np.mean(english_score)\n",
    "ms_mean=np.nanmean(math_score)\n",
    "cs_mean=np.mean(chinese_score)\n",
    "(es_mean,ms_mean,cs_mean)"
   ]
  },
  {
   "cell_type": "code",
   "execution_count": 4,
   "metadata": {},
   "outputs": [
    {
     "data": {
      "text/plain": [
       "(89, 85.0, 90)"
      ]
     },
     "execution_count": 4,
     "metadata": {},
     "output_type": "execute_result"
    }
   ],
   "source": [
    "#各科最大\n",
    "es_max=np.nanmax(english_score)\n",
    "ms_max=np.nanmax(math_score)\n",
    "cs_max=np.nanmax(chinese_score)\n",
    "(es_max,ms_max,cs_max)"
   ]
  },
  {
   "cell_type": "code",
   "execution_count": 7,
   "metadata": {},
   "outputs": [
    {
     "data": {
      "text/plain": [
       "(48, 60.0, 65)"
      ]
     },
     "execution_count": 7,
     "metadata": {},
     "output_type": "execute_result"
    }
   ],
   "source": [
    "#各科最小\n",
    "es_min=np.nanmin(english_score)\n",
    "ms_min=np.nanmin(math_score)\n",
    "cs_min=np.nanmin(chinese_score)\n",
    "(es_min,ms_min,cs_min)"
   ]
  },
  {
   "cell_type": "code",
   "execution_count": 8,
   "metadata": {},
   "outputs": [
    {
     "data": {
      "text/plain": [
       "(13.433995020924426, 9.707728879609279, 8.825468196582484)"
      ]
     },
     "execution_count": 8,
     "metadata": {},
     "output_type": "execute_result"
    }
   ],
   "source": [
    "#各科標準差\n",
    "e_std=np.std(english_score)\n",
    "m_std=np.nanstd(math_score)\n",
    "c_std=np.std(chinese_score)\n",
    "(e_std,m_std,c_std)"
   ]
  },
  {
   "cell_type": "code",
   "execution_count": 12,
   "metadata": {},
   "outputs": [
    {
     "data": {
      "text/plain": [
       "(64.66666666666667, 85, 55, 9.860132971832694)"
      ]
     },
     "execution_count": 12,
     "metadata": {},
     "output_type": "execute_result"
    }
   ],
   "source": [
    "#2. 第五位同學補考數學後成績為55，請計算補考後數學成績平均、最大值、最小值、標準差?\n",
    "\n",
    "mms = math_score = np.array([60,85,60,68,55,60])\n",
    "mms_mean=np.mean(mms)\n",
    "mms_max=np.nanmax(mms)\n",
    "mms_min=np.nanmin(mms)\n",
    "mms_std=np.std(mms)\n",
    "(mms_mean,mms_max,mms_min,mms_std)"
   ]
  },
  {
   "cell_type": "code",
   "execution_count": 13,
   "metadata": {},
   "outputs": [
    {
     "data": {
      "text/plain": [
       "(array([[1.        , 0.97792828],\n",
       "        [0.97792828, 1.        ]]),\n",
       " array([[1.        , 0.74056803],\n",
       "        [0.74056803, 1.        ]]))"
      ]
     },
     "execution_count": 13,
     "metadata": {},
     "output_type": "execute_result"
    }
   ],
   "source": [
    "#3. 用補考後資料找出與國文成績相關係數最高的學科?\n",
    "ec_co=np.corrcoef(chinese_score,english_score)\n",
    "mc_co=np.corrcoef(chinese_score,mms)\n",
    "(ec_co,mc_co)"
   ]
  },
  {
   "cell_type": "code",
   "execution_count": null,
   "metadata": {},
   "outputs": [],
   "source": []
  },
  {
   "cell_type": "code",
   "execution_count": null,
   "metadata": {},
   "outputs": [],
   "source": []
  }
 ],
 "metadata": {
  "kernelspec": {
   "display_name": "Python 3",
   "language": "python",
   "name": "python3"
  },
  "language_info": {
   "codemirror_mode": {
    "name": "ipython",
    "version": 3
   },
   "file_extension": ".py",
   "mimetype": "text/x-python",
   "name": "python",
   "nbconvert_exporter": "python",
   "pygments_lexer": "ipython3",
   "version": "3.8.5"
  }
 },
 "nbformat": 4,
 "nbformat_minor": 4
}
