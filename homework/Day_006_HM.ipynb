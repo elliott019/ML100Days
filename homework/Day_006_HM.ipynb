{
 "cells": [
  {
   "cell_type": "markdown",
   "metadata": {},
   "source": [
    "作業目標\n",
    "讀取存取陣列資料\n",
    "作業重點\n",
    "多陣列存一起需要存成npz，讀取須注意npz中有多個陣列\n",
    "題目:\n",
    "將下兩列array存成npz檔\n",
    "array1 = np.array(range(30))\n",
    "array2 = np.array([2,3,5])\n",
    "讀取剛剛的npz檔，加入下列array一起存成新的npz檔\n",
    "array3 = np.array([[4,5,6], [1,2,3]])"
   ]
  },
  {
   "cell_type": "code",
   "execution_count": 13,
   "metadata": {},
   "outputs": [],
   "source": [
    "import numpy as np"
   ]
  },
  {
   "cell_type": "code",
   "execution_count": 27,
   "metadata": {
    "scrolled": true
   },
   "outputs": [
    {
     "name": "stdout",
     "output_type": "stream",
     "text": [
      "double_array.npz [ 0  1  2  3  4  5  6  7  8  9 10 11 12 13 14 15 16 17 18 19 20 21 22 23\n",
      " 24 25 26 27 28 29] [2 3 5]\n"
     ]
    }
   ],
   "source": [
    "#1. 將下兩列array存成npz檔\n",
    "\n",
    "array1 = np.array(range(30))\n",
    "array2 = np.array([2,3,5])\n",
    "dba = np.savez('double_array.npz', array1, array2) \n",
    "print('double_array.npz', array1, array2)"
   ]
  },
  {
   "cell_type": "code",
   "execution_count": 26,
   "metadata": {},
   "outputs": [
    {
     "name": "stdout",
     "output_type": "stream",
     "text": [
      "triple_array.npz [ 0  1  2  3  4  5  6  7  8  9 10 11 12 13 14 15 16 17 18 19 20 21 22 23\n",
      " 24 25 26 27 28 29] [2 3 5] [[4 5 6]\n",
      " [1 2 3]]\n"
     ]
    }
   ],
   "source": [
    "#2. 讀取剛剛的npz檔，加入array3一起存成新的npz檔\n",
    "\n",
    "load_array = np.load('double_array.npz')\n",
    "array3 = np.array([[4,5,6], [1,2,3]])\n",
    "tpa = np.savez('triple_array.npz', array1, array2, array3) \n",
    "print('triple_array.npz', array1, array2, array3)"
   ]
  }
 ],
 "metadata": {
  "kernelspec": {
   "display_name": "Python 3",
   "language": "python",
   "name": "python3"
  },
  "language_info": {
   "codemirror_mode": {
    "name": "ipython",
    "version": 3
   },
   "file_extension": ".py",
   "mimetype": "text/x-python",
   "name": "python",
   "nbconvert_exporter": "python",
   "pygments_lexer": "ipython3",
   "version": "3.8.5"
  }
 },
 "nbformat": 4,
 "nbformat_minor": 4
}
