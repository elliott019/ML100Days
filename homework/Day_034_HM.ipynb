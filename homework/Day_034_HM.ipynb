{
 "cells": [
  {
   "cell_type": "markdown",
   "metadata": {},
   "source": [
    "今天課程中以一個案例，說明資料分析的流程與探索性分析，是否對於課程中一開始的問題，更有想法了?!\n",
    "Q1: 哪一個問題不適合用資料科學解決?\n",
    "Q2: 以你的角度來分析，為什麼這樣的問題，較不適合用資料來解決?\n",
    "將答案寫在論壇中，大家一起互相討論激盪。"
   ]
  },
  {
   "cell_type": "code",
   "execution_count": 1,
   "metadata": {},
   "outputs": [
    {
     "ename": "SyntaxError",
     "evalue": "invalid syntax (<ipython-input-1-034b60d56124>, line 3)",
     "output_type": "error",
     "traceback": [
      "\u001b[0;36m  File \u001b[0;32m\"<ipython-input-1-034b60d56124>\"\u001b[0;36m, line \u001b[0;32m3\u001b[0m\n\u001b[0;31m    Q1:\u001b[0m\n\u001b[0m       ^\u001b[0m\n\u001b[0;31mSyntaxError\u001b[0m\u001b[0;31m:\u001b[0m invalid syntax\n"
     ]
    }
   ],
   "source": [
    "'我的答案'\n",
    "\n",
    "Q1:\n",
    "Mr./Ms. Right 不適合用資料科學解決。\n",
    "\n",
    "Q2:\n",
    "1.定義問題的困難：\n",
    "怎麼定義Mr./Ms. Right\n",
    "缺乏原則與通則的評斷標準，除非有文獻支持或模型作為理論基礎，否則難保存在選樣偏誤問題。\n",
    "\n",
    "2.變數難測量：\n",
    "難以量化的指標如果用情感溫度計下去做，\n",
    "第一成本高，再來也難確保變數之間存在相關性，更不用說會有顯著的因果關係。\n",
    "\n",
    "3.資料收集的困難：\n",
    "因難以定義問題，難以決定變項、資料也難以收集完全，自然難以做到運用資料來敘述、診斷、預測、建議，提供最後的結果分析\n"
   ]
  },
  {
   "cell_type": "code",
   "execution_count": null,
   "metadata": {},
   "outputs": [],
   "source": []
  }
 ],
 "metadata": {
  "kernelspec": {
   "display_name": "Python 3",
   "language": "python",
   "name": "python3"
  },
  "language_info": {
   "codemirror_mode": {
    "name": "ipython",
    "version": 3
   },
   "file_extension": ".py",
   "mimetype": "text/x-python",
   "name": "python",
   "nbconvert_exporter": "python",
   "pygments_lexer": "ipython3",
   "version": "3.8.5"
  }
 },
 "nbformat": 4,
 "nbformat_minor": 4
}
